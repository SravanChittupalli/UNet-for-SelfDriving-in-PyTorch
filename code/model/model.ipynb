{
  "nbformat": 4,
  "nbformat_minor": 0,
  "metadata": {
    "colab": {
      "name": "model.ipynb",
      "provenance": [],
      "collapsed_sections": []
    },
    "kernelspec": {
      "name": "python3",
      "display_name": "Python 3",
      "language": "python"
    },
    "accelerator": "GPU"
  },
  "cells": [
    {
      "cell_type": "code",
      "metadata": {
        "id": "by7PJfCZTK-v"
      },
      "source": [
        "from model_helper.unet_utils import *\n",
        "import time"
      ],
      "execution_count": 16,
      "outputs": []
    },
    {
      "cell_type": "code",
      "metadata": {
        "id": "jhIgvA7VTvtu"
      },
      "source": [
        "class UNet(nn.Module):\n",
        "    def __init__(self, debug=False):\n",
        "        super().__init__()\n",
        "        self.debug = debug\n",
        "\n",
        "        self.encoder_layer1 = EncoderPart(1,64)\n",
        "        self.encoder_layer2 = EncoderPart(64,128)\n",
        "        self.encoder_layer3 = EncoderPart(128,256)\n",
        "        self.encoder_layer4 = EncoderPart(256,512)\n",
        "        self.encoder_layer5 = EncoderPart(512,1024)\n",
        "\n",
        "        self.maxpool = Maxpool()\n",
        "\n",
        "        self.upconvolution1 = Upconvolution(1024,512)\n",
        "        self.decoder_layer1 = DecoderPart(1024,512)\n",
        "        self.upconvolution2 = Upconvolution(512,256)\n",
        "        self.decoder_layer2 = DecoderPart(512,256)\n",
        "        self.upconvolution3 = Upconvolution(256,128)\n",
        "        self.decoder_layer3 = DecoderPart(256,128)\n",
        "        self.upconvolution4 = Upconvolution(128,64)\n",
        "        self.decoder_layer4 = DecoderPart(128,64)\n",
        "\n",
        "        self.output_layer = OutputLayer(64,2)\n",
        "\n",
        "    def forward(self, x):\n",
        "        encoder_out_layer_1 = self.encoder_layer1(x)\n",
        "        encoder_maxpool_out_layer_1 = self.maxpool(encoder_out_layer_1)\n",
        "        if self.debug:\n",
        "            print(\"[DEBUG] Shape: \",encoder_maxpool_out_layer_1.shape)\n",
        "        encoder_out_layer_2 = self.encoder_layer2(encoder_maxpool_out_layer_1)\n",
        "        encoder_maxpool_out_layer_2 = self.maxpool(encoder_out_layer_2)\n",
        "        if self.debug:\n",
        "            print(\"[DEBUG] Shape: \",encoder_maxpool_out_layer_2.shape)\n",
        "        encoder_out_layer_3 = self.encoder_layer3(encoder_maxpool_out_layer_2)\n",
        "        encoder_maxpool_out_layer_3 = self.maxpool(encoder_out_layer_3)\n",
        "        if self.debug:\n",
        "            print(\"[DEBUG] Shape: \",encoder_maxpool_out_layer_3.shape)\n",
        "        encoder_out_layer_4 = self.encoder_layer4(encoder_maxpool_out_layer_3)\n",
        "        encoder_maxpool_out_layer_4 = self.maxpool(encoder_out_layer_4)\n",
        "        if self.debug:\n",
        "            print(\"[DEBUG] Shape: \",encoder_maxpool_out_layer_4.shape)\n",
        "        encoder_out_layer_5 = self.encoder_layer5(encoder_maxpool_out_layer_4)\n",
        "        if self.debug:\n",
        "            print(\"[DEBUG] Shape: \",encoder_out_layer_5.shape)\n",
        "\n",
        "        upconvolution_out_layer_1 = self.upconvolution1(encoder_out_layer_5)\n",
        "        concat_out_1 = concat(upconvolution_out_layer_1, encoder_out_layer_4)\n",
        "        decoder_out_layer_1 = self.decoder_layer1(concat_out_1)\n",
        "        if self.debug:\n",
        "            print(\"[DEBUG] Shape: \",decoder_out_layer_1.shape)\n",
        "\n",
        "        upconvolution_out_layer_2 = self.upconvolution2(decoder_out_layer_1)\n",
        "        concat_out_2 = concat(upconvolution_out_layer_2, encoder_out_layer_3)\n",
        "        decoder_out_layer_2 = self.decoder_layer2(concat_out_2)\n",
        "        if self.debug:\n",
        "            print(\"[DEBUG] Shape: \",decoder_out_layer_2.shape)\n",
        "\n",
        "        upconvolution_out_layer_3 = self.upconvolution3(decoder_out_layer_2)\n",
        "        concat_out_3 = concat(upconvolution_out_layer_3, encoder_out_layer_2)\n",
        "        decoder_out_layer_3 = self.decoder_layer3(concat_out_3)\n",
        "        if self.debug:\n",
        "            print(\"[DEBUG] Shape: \",decoder_out_layer_3.shape)\n",
        "\n",
        "        upconvolution_out_layer_4 = self.upconvolution4(decoder_out_layer_3)\n",
        "        concat_out_4 = concat(upconvolution_out_layer_4, encoder_out_layer_1)\n",
        "        decoder_out_layer_4 = self.decoder_layer4(concat_out_4)\n",
        "        if self.debug:\n",
        "            print(\"[DEBUG] Shape: \",decoder_out_layer_4.shape)\n",
        "\n",
        "        output = self.output_layer(decoder_out_layer_4)\n",
        "\n",
        "        return output"
      ],
      "execution_count": 17,
      "outputs": []
    },
    {
      "cell_type": "code",
      "metadata": {
        "colab": {
          "base_uri": "https://localhost:8080/"
        },
        "id": "PYtEWz5mTzea",
        "outputId": "be79792e-724e-4570-898c-40811f104de7"
      },
      "source": [
        "model = UNet(debug=True)\n",
        "\n",
        "x = torch.randn(1,1,572,572)\n",
        "prev_time = time.time()\n",
        "print(\"[DEBUG] Output shape: \",model(x).shape)\n",
        "print(\"\\n[DEBUG] FPS: \", 1/(time.time()-prev_time))"
      ],
      "execution_count": 18,
      "outputs": [
        {
          "output_type": "stream",
          "name": "stdout",
          "text": [
            "[DEBUG] Shape:  torch.Size([1, 64, 284, 284])\n",
            "[DEBUG] Shape:  torch.Size([1, 128, 140, 140])\n",
            "[DEBUG] Shape:  torch.Size([1, 256, 68, 68])\n",
            "[DEBUG] Shape:  torch.Size([1, 512, 32, 32])\n",
            "[DEBUG] Shape:  torch.Size([1, 1024, 28, 28])\n",
            "[DEBUG] Shape:  torch.Size([1, 512, 52, 52])\n",
            "[DEBUG] Shape:  torch.Size([1, 256, 100, 100])\n",
            "[DEBUG] Shape:  torch.Size([1, 128, 196, 196])\n",
            "[DEBUG] Shape:  torch.Size([1, 64, 388, 388])\n",
            "[DEBUG] Output shape:  torch.Size([1, 2, 388, 388])\n",
            "\n",
            "[DEBUG] FPS:  0.5224550969062786\n"
          ]
        }
      ]
    },
    {
      "cell_type": "code",
      "metadata": {
        "id": "tjU0A6FHT1KL"
      },
      "source": [],
      "execution_count": null,
      "outputs": []
    }
  ]
}